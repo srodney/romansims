{
 "cells": [
  {
   "cell_type": "markdown",
   "id": "secure-determination",
   "metadata": {},
   "source": [
    "## Creating a CANDELS-based photometry catalog used as input to the Akari sim engine\n",
    "\n",
    "2021.06.27-07.02  S. Rodney\n",
    "\n",
    "This nb creates a new CANDELS-based photometry catalog that can be used as an input into the Akari sim engine (the M.Troxel pixel-level galaxy simulation toolkit used by Kevin Wang at Duke).\n",
    "\n",
    "This nb begins with the official v4.1 3DHST catalogs from `3dhst.research.yale.edu` and constructs an output catalog with the necessary information for running both the Akari pixel-level sims and the SNANA supernova + host sims.  Specifically, we require \n",
    "\n",
    " 1. redshift\n",
    " 1. observer-frame magnitudes in Roman filters\n",
    " 1. galaxy size (kron_radius)\n",
    " 1. ellipticity parameters (a, b)\n",
    " 1. derived physical properties from various CANDELS catalogs: mass, star formation rate\n",
    " 1. 13 coefficients for constructing a simulated SED (the \"specbasis coefficients\" for use with 13 EAZYpy templates that SNANA knows about)\n",
    "\n",
    "\n"
   ]
  },
  {
   "cell_type": "markdown",
   "id": "a70d5fe3",
   "metadata": {},
   "source": [
    "Note that the catalog used in previous iterations of our simulation work was a Roman+LSST CANDELSbased photometry catalog, originally produced by the WFIRST HLS SIT (Hemmati, Capak et al) by remapping real CANDELS galaxies onto a larger area, as described here  https://www.roman-hls-cosmology.space/products/ under \"LSST+ Roman Simulated Photometric Catalog\".  **NOTE that the version we used had about 38k entries, and it has been modified to give the original CANDELS team ID number for each galaxy in the `id` column.**  The version you can download from the link above has about 44k entries, and does not have the necessary CANDELS team IDs.  \n",
    "\n",
    "We stopped using that `photcat` because it is missing some columns that we need for running SNANA simulations, and also imposes a weak-lensing selection cut (see Hemmati+ 2019), which is not desirable for our SN sims. "
   ]
  },
  {
   "cell_type": "markdown",
   "id": "included-theta",
   "metadata": {},
   "source": [
    "### Preamble \n",
    "Imports and global variables."
   ]
  },
  {
   "cell_type": "code",
   "execution_count": null,
   "id": "union-liquid",
   "metadata": {},
   "outputs": [],
   "source": [
    "# comment out #inline and restart kernel for interactive pop-out plotting\n",
    "%matplotlib inline   "
   ]
  },
  {
   "cell_type": "code",
   "execution_count": null,
   "id": "extended-junior",
   "metadata": {},
   "outputs": [],
   "source": [
    "import os\n",
    "import time\n",
    "from copy import deepcopy\n",
    "from string import ascii_lowercase\n",
    "from importlib import reload\n",
    "\n",
    "import numpy as np\n",
    "from numpy import ma\n",
    "\n",
    "from matplotlib import pyplot as plt\n",
    "from matplotlib import cm\n",
    "import seaborn as sns\n",
    "\n",
    "from astropy.io import fits\n",
    "from astropy.table import Table, Column, vstack, hstack, join\n",
    "from astropy.io import ascii\n",
    "from astropy.coordinates import SkyCoord\n",
    "from astropy import units as u\n",
    "from astropy.visualization import quantity_support\n",
    "quantity_support()  "
   ]
  },
  {
   "cell_type": "code",
   "execution_count": null,
   "id": "confirmed-numbers",
   "metadata": {},
   "outputs": [],
   "source": [
    "import catalogs\n",
    "import eazyseds"
   ]
  },
  {
   "cell_type": "markdown",
   "id": "tutorial-blood",
   "metadata": {},
   "source": [
    "### A.  Create the simulation catalog\n",
    "\n",
    "Set REBUILD = True and iterate the version number if you want to build a new product from scratch. \n",
    "\n",
    "The function \"prepare_simulation_catalog()\" does all the steps.  It can take 30-60 minutes to run (most of the time is spent in generating EAZY SED sims and integrating them to get synthetic magnitudes in Roman bandpasses). \n",
    "\n",
    "To run this, you will need to have the CANDELS+3DHST 'master' and 'photometric' catalogs from Skelton et al. 2014 and Momcheva et al. 2016 in the 'data' subdirectory.  They are stored on git using the gitLFS (so you shouldn't need to think about them).  If you need to, you can re-fetch them from here: \n",
    "\n",
    "https://archive.stsci.edu/missions/hlsp/3d-hst/RELEASE_V4.0/Photometry/3dhst_master.phot.v4.1.tar\n",
    "\n"
   ]
  },
  {
   "cell_type": "markdown",
   "id": "corresponding-attitude",
   "metadata": {},
   "source": [
    "#### Specify your own output data directory:\n",
    "(this is where the output catalogs will be stored / loaded from)"
   ]
  },
  {
   "cell_type": "code",
   "execution_count": null,
   "id": "creative-scott",
   "metadata": {},
   "outputs": [],
   "source": [
    "outputdatadir = os.path.expanduser(\"~/Dropbox/SC-SN-DATA/RomanImageSims2021\")"
   ]
  },
  {
   "cell_type": "code",
   "execution_count": null,
   "id": "annoying-fever",
   "metadata": {},
   "outputs": [],
   "source": [
    "start = time.time()\n",
    "reload(eazyseds)\n",
    "reload(catalogs)\n",
    "\n",
    "REBUILD = True  # set to True to reconstruct the catalog\n",
    "version = 'v1.6' # remember to iterate this version if you change + rebuild\n",
    "\n",
    "catalogfits = os.path.join(outputdatadir, f\"3dhst_sim_input_cat_{version}.fits\")\n",
    "cataloghostlib = catalogfits.replace(\".fits\", \".hostlib\")\n",
    "\n",
    "if REBUILD:\n",
    "    eazyseds.register_roman_filters()\n",
    "    threedhstcat = catalogs.Catalog3DHST()\n",
    "    threedhstcat.prepare_simulation_catalog()\n",
    "    threedhstcat.write_simulation_catalog_as_fits(catalogfits, overwrite=True)\n",
    "    threedhstcat.write_simulation_catalog_as_hostlib(cataloghostlib, overwrite=True)\n",
    "else:\n",
    "    print(f\"Shortcut. Loading {version}\")\n",
    "    threedhstcat = catalogs.Catalog3DHST(catalogfits)\n",
    "\n",
    "end = time.time()\n",
    "dtsec=end-start\n",
    "dtmin = dtsec / 60.\n",
    "print(f\"Finished in {dtsec:.1f} seconds ({dtmin:.1f} min)\")"
   ]
  },
  {
   "cell_type": "markdown",
   "id": "sunrise-match",
   "metadata": {},
   "source": [
    "### B. Re-load the catalog and pick SN host galaxies\n",
    "\n",
    "Here the catalog is loaded as a \"CatalogBasedRedshiftSim\" object, which has methods for defining SN host probabilities to individual galaxies, and some useful functions for making figures."
   ]
  },
  {
   "cell_type": "code",
   "execution_count": null,
   "id": "caa2745b",
   "metadata": {},
   "outputs": [],
   "source": [
    "version = 'v1.6'\n",
    "\n",
    "reload(catalogs)\n",
    "simcat = catalogs.CatalogBasedRedshiftSim()\n",
    "simcat.read_galaxy_catalog(catalogfits)\n",
    "simcat.assign_snhost_prob(snr_model='AH18PW')\n",
    "simcat.pick_host_galaxies(nsn=5000)\n"
   ]
  },
  {
   "cell_type": "markdown",
   "id": "baking-obligation",
   "metadata": {},
   "source": [
    "### C. Make figures showing the stellar population parameters\n",
    "\n",
    "The figures constructed below will be used in the K.Wang et al. paper on Roman image sims, and in the ROman SN SIT document about the baseline survey strategy."
   ]
  },
  {
   "cell_type": "code",
   "execution_count": null,
   "id": "231cced7",
   "metadata": {},
   "outputs": [],
   "source": [
    "snr = simcat.galaxies['snr_AH18_piecewise']\n",
    "logsnr = np.log10(snr)\n",
    "logsfr = simcat.galaxies['logsfr']\n",
    "logmass = simcat.galaxies['logmass']\n",
    "logssfr = simcat.galaxies['logssfr']\n",
    "logssnr = logsnr - logmass\n",
    "\n",
    "hsnr = simcat.snhosts['snr_AH18_piecewise']\n",
    "hlogsnr = np.log10(hsnr)\n",
    "hlogsfr = simcat.snhosts['logsfr']\n",
    "hlogmass = simcat.snhosts['logmass']\n",
    "hlogssfr = simcat.snhosts['logssfr']\n",
    "hlogssnr = hlogsnr - hlogmass\n"
   ]
  },
  {
   "cell_type": "code",
   "execution_count": null,
   "id": "e6dcdcdd",
   "metadata": {},
   "outputs": [],
   "source": [
    "fig = plt.figure(constrained_layout=True, figsize=[10,5])\n",
    "widths = [2, 1, 2, 2]\n",
    "heights = [1, 3]\n",
    "gs = fig.add_gridspec(ncols=4, nrows=2, \n",
    "                      width_ratios=widths,\n",
    "                      height_ratios=heights)\n",
    "\n",
    "ax1b = fig.add_subplot(gs[1,0])\n",
    "ax2b = fig.add_subplot(gs[1,2])\n",
    "ax3b = fig.add_subplot(gs[1,3], sharey=ax2b)\n",
    "\n",
    "ax1a = fig.add_subplot(gs[0,0], sharex=ax1b)\n",
    "ax2a = fig.add_subplot(gs[0,2], sharex=ax2b)\n",
    "ax3a = fig.add_subplot(gs[0,3], sharex=ax3b)\n",
    "\n",
    "\n",
    "ax1b.plot(logssfr, logssnr, marker='.', ms=2, ls=' ', alpha=0.5)\n",
    "ax1a.hist(logssfr, density=True, alpha=0.5)\n",
    "ax1a.hist(hlogssfr, density=True, alpha=0.5)\n",
    "\n",
    "ax2b.plot(logsfr, logsnr, marker='.', ms=2, ls=' ', alpha=0.5)\n",
    "ax2a.hist(logsfr, density=True, alpha=0.5)\n",
    "ax2a.hist(hlogsfr, density=True, alpha=0.5)\n",
    "\n",
    "ax3b.plot(logmass, logsnr, marker='.', ms=2, ls=' ', alpha=0.5)\n",
    "ax3a.hist(logmass, density=True, alpha=0.5)\n",
    "ax3a.hist(hlogmass, density=True, alpha=0.5)\n",
    "\n",
    "ax1b.plot(hlogssfr, hlogssnr, marker='.', ms=2, ls=' ', alpha=0.5)\n",
    "ax2b.plot(hlogsfr, hlogsnr, marker='.', ms=2, ls=' ', alpha=0.5)\n",
    "ax3b.plot(hlogmass, hlogsnr, marker='.', ms=2, ls=' ', alpha=0.5)\n",
    "\n",
    "def hide_ticklabels(ax):\n",
    "    ax.yaxis.set_ticks([])\n",
    "    ax.yaxis.set_ticklabels([])\n",
    "    plt.setp(ax.xaxis.get_ticklabels(), visible=False)\n",
    "  \n",
    "hide_ticklabels(ax1a)\n",
    "hide_ticklabels(ax2a)\n",
    "hide_ticklabels(ax3a)\n",
    "plt.setp(ax3b.yaxis.get_ticklabels(), visible=False)\n",
    "\n",
    "ax1b.set_ylabel('Specific SNIa Rate: log$_{10}$(sSNR / [M$_\\odot^{-1}$ yr$^{-1}$])')\n",
    "ax2b.set_ylabel('SNIa Rate: log$_{10}$(SNR / [yr$^{-1}$])')\n",
    "\n",
    "ax1b.set_xlabel('Specific SFR: log$_{10}$(sSFR / [yr$^{-1}$])')\n",
    "ax2b.set_xlabel('SFR: log$_{10}$(SFR / [M$_\\odot$ yr$^{-1}$])')\n",
    "ax3b.set_xlabel('Stellar Mass: log$_{10}$(M / [M$_\\odot$])')\n",
    "\n",
    "ax1b.set_xlim(-12, -5)\n",
    "ax2b.set_ylim(-10, 0.5)\n",
    "ax3b.set_xlim(5, 14)\n",
    "\n",
    "plt.subplots_adjust(hspace=0, wspace=0)\n",
    "plt.savefig(os.path.expanduser(\"~/Desktop/3dhst_snia_rate.pdf\"))\n",
    "#ax2.plot(logssfr, snr, marker='.', ms=2, ls=' ', alpha=0.5)\n",
    "#ax1.set_ylim(-0.01, 0.1)"
   ]
  },
  {
   "cell_type": "markdown",
   "id": "choice-mongolia",
   "metadata": {},
   "source": [
    "##### Figure Caption\n",
    "\n",
    "Application of a SN Ia rate model to the Roman SN survey simulation galaxy catalog.  Each lower panel plots all 112,000 galaxies in blue, overlaid with a selection of 5000 \"SN host galaxies\" in orange. Smaller panels above show normalized histograms for both populations.  The host galaxy selection process follows the \\citet{andersen_reconciling_2018} specific-SFR-based model to assign a Type Ia SN rate predictions to each galaxy in the catalog. That model is illustrated in the left pair of panels, plotting the specific SNIa Rate against the specific star formation rate, with logarithmic scaling on both axes.   The two pairs of panels on the right show the total SN rate for every galaxy, computed by multiplying the specific SN rate by the total stellar mass.  The middle panels plot this SN rate against the star formation rate.  The rightmost panels plot SN rate against the stellar mass."
   ]
  },
  {
   "cell_type": "markdown",
   "id": "finite-raise",
   "metadata": {},
   "source": [
    "### Show Star Formation Rate and Mass and Redshift\n",
    "\n",
    "note that the code for making this figure is embedded in the 'catalogs' module, so its just a single line here.  If you want to adjust the appoearance, you can pass keyward args that get passed to matplotlib's 'hexbin' function."
   ]
  },
  {
   "cell_type": "code",
   "execution_count": null,
   "id": "320af900",
   "metadata": {},
   "outputs": [],
   "source": [
    "simcat.make_sfrmass_figure(cmap='inferno')"
   ]
  },
  {
   "cell_type": "markdown",
   "id": "e3bd6ab1",
   "metadata": {},
   "source": [
    "##### Figure Caption: \n",
    "\n",
    "Stellar population properties of the galaxy catalog used as input for Roman SN survey simulations.  Shading in each panel shows the distribution of the entire galaxy catalog (~112,000 entries), with logarithmic scaling.  Overlaid contours show a representative sampling of Type Ia SN host galaxies, drawn according to the specific-star-formation-rate-based model from Andersen & Hjorth 2018.   Panel (a) presents the stellar mass vs redshift distribution; (b) shows star formation rate vs redshift; (c) plots star formation rate against stellar mass.   The Type Ia SN host galaxy population is strongly skewed to higher mass and more actively star forming galaxies at all redshifts. "
   ]
  },
  {
   "cell_type": "markdown",
   "id": "cosmetic-cream",
   "metadata": {},
   "source": [
    "##### Figures showing integrated Roman bandpasses\n",
    "\n",
    "(These last two are not being used in publication. Its just some starter code to show how you might make something like a UVJ diagram)"
   ]
  },
  {
   "cell_type": "code",
   "execution_count": null,
   "id": "6c3c6c96",
   "metadata": {},
   "outputs": [],
   "source": [
    "hmag = simcat.galaxies['h158']\n",
    "z = simcat.galaxies['z']\n",
    "\n",
    "plt.hexbin(z, hmag, extent=[0,6,18,28], bins='log', zorder=1, cmap='viridis')\n",
    "ax = plt.gca()\n",
    "ax.set_xlim(0,6)\n",
    "ax.set_ylim(18,28)\n",
    "plt.xlabel('Redshift')\n",
    "plt.ylabel('AB mag in Roman H158 band')\n",
    "\n",
    "\n",
    "hsn = simcat.snhosts_df['h158']\n",
    "zsn = simcat.snhosts_df['z']\n",
    "\n",
    "sns.kdeplot(x=zsn, y=hsn, zorder=2, ax=ax, color='w', levels=5)\n",
    "ax.invert_yaxis()"
   ]
  },
  {
   "cell_type": "code",
   "execution_count": null,
   "id": "ca907063",
   "metadata": {},
   "outputs": [],
   "source": []
  },
  {
   "cell_type": "code",
   "execution_count": null,
   "id": "0703edab",
   "metadata": {},
   "outputs": [],
   "source": [
    "iz2 = np.where((simcat.galaxies['z']>0.75) & (simcat.galaxies['z']<1))[0]\n",
    "rmag = simcat.galaxies['r062'][iz2]\n",
    "zmag = simcat.galaxies['z087'][iz2]\n",
    "fmag = simcat.galaxies['f184'][iz2]\n",
    "plt.hexbin(zmag-fmag, rmag-zmag, extent=[-1,5,-1,3], bins='log', zorder=1, cmap='viridis')\n",
    "\n",
    "izsn = np.where((simcat.snhosts['z']>0.75) & (simcat.snhosts['z']<1))[0]\n",
    "rmagsn = simcat.snhosts['r062'][izsn]\n",
    "zmagsn = simcat.snhosts['z087'][izsn]\n",
    "fmagsn = simcat.snhosts['f184'][izsn]\n",
    "sns.kdeplot(x=zmagsn-fmagsn, y=rmagsn-zmagsn, zorder=2, color='w', levels=4)\n",
    "plt.plot(zmagsn-fmagsn, rmagsn-zmagsn, zorder=2, color='r', ms=4, alpha=0.5, ls=' ', marker='.')#, levels=5)\n",
    "\n",
    "ax = plt.gca()\n",
    "ax.set_ylim(-0.5,2.5)\n",
    "ax.set_xlim(-0.5,2.5)\n",
    "plt.ylabel('R062-Z087')\n",
    "plt.xlabel('Z087-F184')\n",
    "plt.title(\"R-Z vs Z-F for 0.75<1<1.0\")"
   ]
  }
 ],
 "metadata": {
  "kernelspec": {
   "display_name": "Python 3",
   "language": "python",
   "name": "python3"
  },
  "language_info": {
   "codemirror_mode": {
    "name": "ipython",
    "version": 3
   },
   "file_extension": ".py",
   "mimetype": "text/x-python",
   "name": "python",
   "nbconvert_exporter": "python",
   "pygments_lexer": "ipython3",
   "version": "3.7.9"
  }
 },
 "nbformat": 4,
 "nbformat_minor": 5
}
